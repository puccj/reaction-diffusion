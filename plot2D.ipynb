{
 "cells": [
  {
   "cell_type": "code",
   "execution_count": null,
   "metadata": {},
   "outputs": [],
   "source": [
    "import matplotlib.pyplot as plt\n",
    "import numpy as np"
   ]
  },
  {
   "cell_type": "code",
   "execution_count": null,
   "metadata": {},
   "outputs": [],
   "source": [
    "name = 'k1=11, dv=0.06'\n",
    "data = np.loadtxt(open('D:/data/2D/' + name + '0000 200000.dat', \"rb\"))\n",
    "\n",
    "extent = [0, 10, 0, 10]  #l,r,b,t\n",
    "plt.imshow(data, cmap='jet', extent=extent)\n",
    "# plt.savefig('C:/Users/Daniele/Il mio Drive/Università/Physics of Complex Systems/images/2D/' + name + \".png\")\n",
    "plt.show()"
   ]
  },
  {
   "cell_type": "code",
   "execution_count": null,
   "metadata": {},
   "outputs": [],
   "source": [
    "threshold = data.mean()\n",
    "thresh = np.where(data > threshold, 255, 0)\n",
    "\n",
    "\n",
    "plt.imshow(thresh, cmap='hot', extent=extent)\n",
    "# plt.imshow(thresh, cmap='RdBu', extent=extent)\n",
    "#plt.colorbar()\n",
    "\n",
    "plt.show()"
   ]
  }
 ],
 "metadata": {
  "kernelspec": {
   "display_name": ".venv",
   "language": "python",
   "name": "python3"
  },
  "language_info": {
   "codemirror_mode": {
    "name": "ipython",
    "version": 3
   },
   "file_extension": ".py",
   "mimetype": "text/x-python",
   "name": "python",
   "nbconvert_exporter": "python",
   "pygments_lexer": "ipython3",
   "version": "3.11.5"
  }
 },
 "nbformat": 4,
 "nbformat_minor": 2
}
